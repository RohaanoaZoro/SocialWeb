{
 "cells": [
  {
   "cell_type": "markdown",
   "id": "e92da64a",
   "metadata": {},
   "source": [
    "# Analysis of Earthquakes\n",
    "\n",
    "## Method:\n",
    "1. Import all libararies\n",
    "2. Read the CSV file\n",
    "3. Data conversion\n",
    "4. Sorting data\n",
    "5. Binning Data\n",
    "6. Corelating Data\n",
    "7. Visualizing Data"
   ]
  },
  {
   "cell_type": "markdown",
   "id": "691b9966",
   "metadata": {},
   "source": [
    "\n",
    "## Import all libararies:\n",
    "We import libraries as follows:\n",
    "\n",
    "1. numpy for linear algebra\n",
    "2. pandas for data processing\n",
    "3. matplotlib, seaborn, shapely, geopandas for visualizarion\n",
    "4. os for reading/writing data"
   ]
  },
  {
   "cell_type": "code",
   "execution_count": 1,
   "id": "b28cc98f",
   "metadata": {},
   "outputs": [],
   "source": [
    "import numpy as np # linear algebra\n",
    "import pandas as pd # data processing, CSV file I/O (e.g. pd.read_csv)\n",
    "import matplotlib.pyplot as plt\n",
    "import seaborn as sns  # visualization tool\n",
    "from subprocess import check_output\n",
    "import os #reading/writing files\n",
    "from shapely.geometry import Point\n",
    "import geopandas as gpd #geo plot\n",
    "from geopandas import GeoDataFrame #geoplot"
   ]
  },
  {
   "cell_type": "markdown",
   "id": "9fa6c203",
   "metadata": {},
   "source": [
    "## Reading the CSV file\n",
    "The CSV file that we had generated earlier by extracting information from the tweets as mentioned in extraction python notebook"
   ]
  },
  {
   "cell_type": "code",
   "execution_count": 2,
   "id": "0be83a17",
   "metadata": {},
   "outputs": [
    {
     "data": {
      "text/html": [
       "<div>\n",
       "<style scoped>\n",
       "    .dataframe tbody tr th:only-of-type {\n",
       "        vertical-align: middle;\n",
       "    }\n",
       "\n",
       "    .dataframe tbody tr th {\n",
       "        vertical-align: top;\n",
       "    }\n",
       "\n",
       "    .dataframe thead th {\n",
       "        text-align: right;\n",
       "    }\n",
       "</style>\n",
       "<table border=\"1\" class=\"dataframe\">\n",
       "  <thead>\n",
       "    <tr style=\"text-align: right;\">\n",
       "      <th></th>\n",
       "      <th>Date</th>\n",
       "      <th>Time</th>\n",
       "      <th>Latitude</th>\n",
       "      <th>Longitude</th>\n",
       "      <th>Type</th>\n",
       "      <th>Depth</th>\n",
       "      <th>Magnitude</th>\n",
       "    </tr>\n",
       "  </thead>\n",
       "  <tbody>\n",
       "    <tr>\n",
       "      <th>0</th>\n",
       "      <td>01/01/2008</td>\n",
       "      <td>06:32:28</td>\n",
       "      <td>40.288</td>\n",
       "      <td>72.985</td>\n",
       "      <td>Earthquake</td>\n",
       "      <td>6.0</td>\n",
       "      <td>5.6</td>\n",
       "    </tr>\n",
       "    <tr>\n",
       "      <th>1</th>\n",
       "      <td>01/01/2008</td>\n",
       "      <td>18:54:59</td>\n",
       "      <td>-5.878</td>\n",
       "      <td>146.884</td>\n",
       "      <td>Earthquake</td>\n",
       "      <td>34.0</td>\n",
       "      <td>6.3</td>\n",
       "    </tr>\n",
       "    <tr>\n",
       "      <th>2</th>\n",
       "      <td>01/01/2008</td>\n",
       "      <td>19:13:05</td>\n",
       "      <td>-5.902</td>\n",
       "      <td>146.967</td>\n",
       "      <td>Earthquake</td>\n",
       "      <td>35.0</td>\n",
       "      <td>5.8</td>\n",
       "    </tr>\n",
       "    <tr>\n",
       "      <th>3</th>\n",
       "      <td>04/01/2008</td>\n",
       "      <td>07:29:18</td>\n",
       "      <td>-2.782</td>\n",
       "      <td>101.032</td>\n",
       "      <td>Earthquake</td>\n",
       "      <td>35.0</td>\n",
       "      <td>6.0</td>\n",
       "    </tr>\n",
       "    <tr>\n",
       "      <th>4</th>\n",
       "      <td>05/01/2008</td>\n",
       "      <td>01:56:45</td>\n",
       "      <td>14.129</td>\n",
       "      <td>-91.479</td>\n",
       "      <td>Earthquake</td>\n",
       "      <td>66.2</td>\n",
       "      <td>5.6</td>\n",
       "    </tr>\n",
       "  </tbody>\n",
       "</table>\n",
       "</div>"
      ],
      "text/plain": [
       "         Date      Time  Latitude  Longitude        Type  Depth  Magnitude\n",
       "0  01/01/2008  06:32:28    40.288     72.985  Earthquake    6.0        5.6\n",
       "1  01/01/2008  18:54:59    -5.878    146.884  Earthquake   34.0        6.3\n",
       "2  01/01/2008  19:13:05    -5.902    146.967  Earthquake   35.0        5.8\n",
       "3  04/01/2008  07:29:18    -2.782    101.032  Earthquake   35.0        6.0\n",
       "4  05/01/2008  01:56:45    14.129    -91.479  Earthquake   66.2        5.6"
      ]
     },
     "execution_count": 2,
     "metadata": {},
     "output_type": "execute_result"
    }
   ],
   "source": [
    "data = pd.read_csv('../CSV/test_earthquake.csv')\n",
    "#data.info()\n",
    "data.head()"
   ]
  },
  {
   "cell_type": "markdown",
   "id": "195be370",
   "metadata": {},
   "source": [
    "## Data Conversion\n",
    "Here we Convert the date and time into its respective componets so it is easier to sort and visualise"
   ]
  },
  {
   "cell_type": "code",
   "execution_count": 3,
   "id": "d4b2ea87",
   "metadata": {},
   "outputs": [
    {
     "data": {
      "text/html": [
       "<div>\n",
       "<style scoped>\n",
       "    .dataframe tbody tr th:only-of-type {\n",
       "        vertical-align: middle;\n",
       "    }\n",
       "\n",
       "    .dataframe tbody tr th {\n",
       "        vertical-align: top;\n",
       "    }\n",
       "\n",
       "    .dataframe thead th {\n",
       "        text-align: right;\n",
       "    }\n",
       "</style>\n",
       "<table border=\"1\" class=\"dataframe\">\n",
       "  <thead>\n",
       "    <tr style=\"text-align: right;\">\n",
       "      <th></th>\n",
       "      <th>Date</th>\n",
       "      <th>Time</th>\n",
       "      <th>Latitude</th>\n",
       "      <th>Longitude</th>\n",
       "      <th>Type</th>\n",
       "      <th>Depth</th>\n",
       "      <th>Magnitude</th>\n",
       "      <th>year</th>\n",
       "      <th>month</th>\n",
       "      <th>date</th>\n",
       "    </tr>\n",
       "  </thead>\n",
       "  <tbody>\n",
       "    <tr>\n",
       "      <th>0</th>\n",
       "      <td>01/01/2008</td>\n",
       "      <td>06:32:28</td>\n",
       "      <td>40.288</td>\n",
       "      <td>72.985</td>\n",
       "      <td>Earthquake</td>\n",
       "      <td>6.0</td>\n",
       "      <td>5.6</td>\n",
       "      <td>2008</td>\n",
       "      <td>01</td>\n",
       "      <td>01</td>\n",
       "    </tr>\n",
       "    <tr>\n",
       "      <th>1</th>\n",
       "      <td>01/01/2008</td>\n",
       "      <td>18:54:59</td>\n",
       "      <td>-5.878</td>\n",
       "      <td>146.884</td>\n",
       "      <td>Earthquake</td>\n",
       "      <td>34.0</td>\n",
       "      <td>6.3</td>\n",
       "      <td>2008</td>\n",
       "      <td>01</td>\n",
       "      <td>01</td>\n",
       "    </tr>\n",
       "    <tr>\n",
       "      <th>2</th>\n",
       "      <td>01/01/2008</td>\n",
       "      <td>19:13:05</td>\n",
       "      <td>-5.902</td>\n",
       "      <td>146.967</td>\n",
       "      <td>Earthquake</td>\n",
       "      <td>35.0</td>\n",
       "      <td>5.8</td>\n",
       "      <td>2008</td>\n",
       "      <td>01</td>\n",
       "      <td>01</td>\n",
       "    </tr>\n",
       "    <tr>\n",
       "      <th>3</th>\n",
       "      <td>04/01/2008</td>\n",
       "      <td>07:29:18</td>\n",
       "      <td>-2.782</td>\n",
       "      <td>101.032</td>\n",
       "      <td>Earthquake</td>\n",
       "      <td>35.0</td>\n",
       "      <td>6.0</td>\n",
       "      <td>2008</td>\n",
       "      <td>01</td>\n",
       "      <td>04</td>\n",
       "    </tr>\n",
       "    <tr>\n",
       "      <th>4</th>\n",
       "      <td>05/01/2008</td>\n",
       "      <td>01:56:45</td>\n",
       "      <td>14.129</td>\n",
       "      <td>-91.479</td>\n",
       "      <td>Earthquake</td>\n",
       "      <td>66.2</td>\n",
       "      <td>5.6</td>\n",
       "      <td>2008</td>\n",
       "      <td>01</td>\n",
       "      <td>05</td>\n",
       "    </tr>\n",
       "  </tbody>\n",
       "</table>\n",
       "</div>"
      ],
      "text/plain": [
       "         Date      Time  Latitude  Longitude        Type  Depth  Magnitude  \\\n",
       "0  01/01/2008  06:32:28    40.288     72.985  Earthquake    6.0        5.6   \n",
       "1  01/01/2008  18:54:59    -5.878    146.884  Earthquake   34.0        6.3   \n",
       "2  01/01/2008  19:13:05    -5.902    146.967  Earthquake   35.0        5.8   \n",
       "3  04/01/2008  07:29:18    -2.782    101.032  Earthquake   35.0        6.0   \n",
       "4  05/01/2008  01:56:45    14.129    -91.479  Earthquake   66.2        5.6   \n",
       "\n",
       "   year month date  \n",
       "0  2008    01   01  \n",
       "1  2008    01   01  \n",
       "2  2008    01   01  \n",
       "3  2008    01   04  \n",
       "4  2008    01   05  "
      ]
     },
     "execution_count": 3,
     "metadata": {},
     "output_type": "execute_result"
    }
   ],
   "source": [
    "time_list = list(data[\"Date\"])\n",
    "year_list = []\n",
    "month_list = []\n",
    "date_list = []\n",
    "\n",
    "for timex in time_list:\n",
    "    date = str(timex)[0:2]\n",
    "    month = str(timex)[3:5]\n",
    "    year = str(timex)[6:10]\n",
    "    \n",
    "    year_list.append(year)\n",
    "    month_list.append(month)\n",
    "    date_list.append(date)\n",
    "\n",
    "data[\"year\"] = year_list\n",
    "data[\"month\"] = month_list\n",
    "data[\"date\"]= date_list\n",
    "\n",
    "data.head()"
   ]
  },
  {
   "cell_type": "markdown",
   "id": "c83701fb",
   "metadata": {},
   "source": [
    "## Sorting the List by year\n",
    "We sort the data by accesing order if the years. As you can see the output no year is repeated and is sorted in accending order"
   ]
  },
  {
   "cell_type": "code",
   "execution_count": 4,
   "id": "b56d0750",
   "metadata": {},
   "outputs": [
    {
     "name": "stdout",
     "output_type": "stream",
     "text": [
      "[2008, 2009, 2010, 2011, 2012, 2013, 2014, 2015, 2016, 2017, 2018, 2019, 2020, 2021, 2022]\n"
     ]
    }
   ],
   "source": [
    "temp_years = list(set(data[\"year\"]))\n",
    "unique_years = []\n",
    "for year in temp_years:\n",
    "    if year != '':\n",
    "        unique_years.append(int(year))\n",
    "    \n",
    "unique_years.sort()\n",
    "print(unique_years)"
   ]
  },
  {
   "cell_type": "markdown",
   "id": "d97e5840",
   "metadata": {},
   "source": [
    "## Binning Data\n",
    "We group the data based on magnitude:\n",
    "1. Magnitude less than 5.5\n",
    "2. Magnitude less than 6.5 and more than 5.5\n",
    "3. Magnitude less than 7.5 and more than 6.5\n",
    "4. Magnitude less than 8.5 and more than 7.5\n",
    "5. Magnitude more than 8.5\n",
    "\n",
    "We accordingly increment the count of the respective magnitudes(mentioned above) per year"
   ]
  },
  {
   "cell_type": "code",
   "execution_count": 7,
   "id": "baf4ee07",
   "metadata": {},
   "outputs": [
    {
     "name": "stdout",
     "output_type": "stream",
     "text": [
      "[2, 7, 3, 3, 5, 5, 4, 5, 7, 3, 2, 2, 7, 5, 4]\n"
     ]
    }
   ],
   "source": [
    "#Group Earthquakes by no of occurance per year\n",
    "year_mag_count = [0]*len(unique_years)\n",
    "year_55_mag_count = [0]*len(unique_years)\n",
    "year_65_mag_count = [0]*len(unique_years)\n",
    "year_75_mag_count = [0]*len(unique_years)\n",
    "year_85_mag_count = [0]*len(unique_years)\n",
    "year_100_mag_count = [0]*len(unique_years)\n",
    "\n",
    "def get_year_index(data_year, unique_years):\n",
    "    index = 0\n",
    "    for year in unique_years:\n",
    "        if year == data_year:\n",
    "            return index\n",
    "        index+=1\n",
    "        \n",
    "    return -1\n",
    "\n",
    "\n",
    "for i in range(0, len(data)):\n",
    "    mag = data[\"Magnitude\"][i]\n",
    "    data_year = data[\"year\"][i]\n",
    "    if data_year != '':\n",
    "        year_index = get_year_index(int(data_year), unique_years)\n",
    "        year_mag_count[year_index]+=1\n",
    "\n",
    "        if float(mag) <= 5.5:\n",
    "            year_55_mag_count[year_index]+=1\n",
    "        elif float(mag) <= 6.5:\n",
    "            year_65_mag_count[year_index]+=1\n",
    "        elif float(mag) <= 7.5:\n",
    "            year_75_mag_count[year_index]+=1\n",
    "        elif float(mag) <= 8.5:\n",
    "            year_85_mag_count[year_index]+=1\n",
    "        else:\n",
    "            year_100_mag_count[year_index]+=1\n",
    "    \n",
    "print(year_85_mag_count)\n"
   ]
  },
  {
   "cell_type": "markdown",
   "id": "5cd88464",
   "metadata": {},
   "source": [
    "## Plotting Data\n",
    "After the binning the data we visualize the data using a bargraph to identify patterns or trends that we can used to predict a natural disaster."
   ]
  },
  {
   "cell_type": "markdown",
   "id": "3e247b9d",
   "metadata": {},
   "source": [
    "### We are plotting the count of the occurance of earthquakes per year"
   ]
  },
  {
   "cell_type": "code",
   "execution_count": 8,
   "id": "9fbba422",
   "metadata": {},
   "outputs": [
    {
     "name": "stderr",
     "output_type": "stream",
     "text": [
      "No artists with labels found to put in legend.  Note that artists whose label start with an underscore are ignored when legend() is called with no argument.\n"
     ]
    },
    {
     "data": {
      "image/png": "[encoded data removed]",
      "text/plain": [
       "<Figure size 1000x480 with 1 Axes>"
      ]
     },
     "metadata": {},
     "output_type": "display_data"
    }
   ],
   "source": [
    "labels = unique_years\n",
    "\n",
    "plt.rcParams.update({'font.size': 8})\n",
    "\n",
    "x = np.arange(len(labels))  # the label locations\n",
    "width = 0.8  # the width of the bars\n",
    "\n",
    "fig, ax = plt.subplots()\n",
    "rects1 = ax.bar(x, list(year_mag_count), width, align='edge')\n",
    "\n",
    "\n",
    "# Add some text for labels, title and custom x-axis tick labels, etc.\n",
    "ax.set_ylabel('Frequency')\n",
    "ax.set_title('Number of earthquakes(1965-2016)')\n",
    "ax.set_xticks(x, labels)\n",
    "for tick in ax.get_xticklabels():\n",
    "    tick.set_rotation(90)\n",
    "ax.legend()\n",
    "\n",
    "ax.bar_label(rects1, padding=1)\n",
    "\n",
    "fig.tight_layout()\n",
    "fig.set_figwidth(10)\n",
    "plt.show()\n"
   ]
  },
  {
   "cell_type": "markdown",
   "id": "58d31793",
   "metadata": {},
   "source": [
    "### We are plotting the count of the occurance of earthquakes per year and magnitude"
   ]
  },
  {
   "cell_type": "code",
   "execution_count": 9,
   "id": "e9dbf889",
   "metadata": {},
   "outputs": [
    {
     "data": {
      "image/png": "[encoded data removed]",
      "text/plain": [
       "<Figure size 1000x480 with 1 Axes>"
      ]
     },
     "metadata": {},
     "output_type": "display_data"
    }
   ],
   "source": [
    "\n",
    "labels = unique_years\n",
    "\n",
    "plt.rcParams.update({'font.size': 8})\n",
    "\n",
    "x = np.arange(len(labels))  # the label locations\n",
    "width = 0.25  # the width of the bars\n",
    "\n",
    "fig, ax = plt.subplots()\n",
    "rects0 = ax.bar(x - 2 * width, list(year_55_mag_count), width, align='edge', label='Magnitude <5.5')\n",
    "rects1 = ax.bar(x - width, list(year_65_mag_count), width, align='edge', label='Magnitude (5.5-6.5)')\n",
    "rects2 = ax.bar(x + width, list(year_75_mag_count), width, align='edge', label='Magnitude (6.5-7.5)')\n",
    "rects3 = ax.bar(x + 2* width, list(year_85_mag_count), width, align='edge', label='Magnitude (7.5-8.5)')\n",
    "\n",
    "\n",
    "# Add some text for labels, title and custom x-axis tick labels, etc.\n",
    "ax.set_ylabel('Frequency')\n",
    "ax.set_title('Comparision of magnitude scales earthquakes(2000-2016)')\n",
    "ax.set_xticks(x, labels)\n",
    "for tick in ax.get_xticklabels():\n",
    "    tick.set_rotation(90)\n",
    "ax.legend()\n",
    "ax.bar_label(rects0, padding=1)\n",
    "ax.bar_label(rects1, padding=1)\n",
    "ax.bar_label(rects2, padding=1)\n",
    "ax.bar_label(rects3, padding=1)\n",
    "\n",
    "\n",
    "fig.tight_layout()\n",
    "fig.set_figwidth(10)\n",
    "plt.show()\n"
   ]
  },
  {
   "cell_type": "markdown",
   "id": "57d064f6",
   "metadata": {},
   "source": [
    "## Binning Data with Depth\n",
    "We group the data based on Depth:\n",
    "1. Magnitude less than 5.5\n",
    "2. Magnitude less than 6.5 and more than 5.5\n",
    "3. Magnitude less than 7.5 and more than 6.5\n",
    "4. Magnitude less than 8.5 and more than 7.5\n",
    "5. Magnitude more than 8.5"
   ]
  },
  {
   "cell_type": "code",
   "execution_count": 10,
   "id": "57c05687",
   "metadata": {},
   "outputs": [
    {
     "name": "stdout",
     "output_type": "stream",
     "text": [
      "[19.0, 632.8, 17.0, 31.0, 12.0, 18.0, 81.0, 45.0, 35.0, 31.0, 578.0, 20.1, 42.6, 18.6, 17.0, 25.1, 583.2, 28.0, 35.0, 14.0, 24.0, 80.0, 598.1, 15.0, 10.0, 25.0, 22.4, 22.56, 109.0, 8.22, 664.0, 22.44, 606.21, 620.56, 24.0, 20.59, 196.0, 15.22, 40.0, 94.54, 38.0, 33.0, 167.3, 33.0, 10.0, 33.0, 17.0, 33.0, 126.5, 26.0, 33.0, 10.0, 33.0, 30.0, 33.0, 60.0, 16.0, 33.0, 33.0, 10.0, 580.0, 675.4, 13.0, 10.0]\n"
     ]
    }
   ],
   "source": [
    "#Group Earthquakes by no of occurance per year\n",
    "year_dep_count = []\n",
    "year_55_dep_count = []\n",
    "year_65_dep_count = []\n",
    "year_75_dep_count = []\n",
    "year_85_dep_count = []\n",
    "year_100_dep_count = []\n",
    "\n",
    "for i in range(0, len(data)):\n",
    "    mag = data[\"Magnitude\"][i]\n",
    "    dep = data[\"Depth\"][i]\n",
    "    data_year = data[\"year\"][i]\n",
    "    if data_year != '':\n",
    "\n",
    "        if float(mag) <= 5.5:\n",
    "            year_55_dep_count.append(dep)\n",
    "        elif float(mag) <= 6.5:\n",
    "            year_65_dep_count.append(dep)\n",
    "        elif float(mag) <= 7.5:\n",
    "            year_75_dep_count.append(dep)\n",
    "        elif float(mag) <= 8.5:\n",
    "            year_85_dep_count.append(dep)\n",
    "        else:\n",
    "            year_100_dep_count.append(dep)\n",
    "    \n",
    "print(year_85_dep_count)\n"
   ]
  },
  {
   "cell_type": "markdown",
   "id": "9d70111a",
   "metadata": {},
   "source": [
    "## Plotting the Depth vs Magnitude\n",
    "\n",
    "This is use to find if there is any correlation between depth of an earthquake and magnitude. We can see a linear increase therefore we can conclude that there is a linear correlation"
   ]
  },
  {
   "cell_type": "code",
   "execution_count": 11,
   "id": "ef69d6ec",
   "metadata": {},
   "outputs": [
    {
     "data": {
      "image/png": "[encoded data removed]",
      "text/plain": [
       "<Figure size 300x480 with 1 Axes>"
      ]
     },
     "metadata": {},
     "output_type": "display_data"
    }
   ],
   "source": [
    "def Average(lst):\n",
    "    x = int(sum(lst) / len(lst))\n",
    "    return x\n",
    "\n",
    "labels = [\"<5.5\", \"<6.5\", \"<7.5\", \"<8.5\", \"10.0\"]\n",
    "\n",
    "plt.rcParams.update({'font.size': 8})\n",
    "\n",
    "x = np.arange(len(labels))  # the label locations\n",
    "width = 0.8  # the width of the bars\n",
    "\n",
    "fig, ax = plt.subplots()\n",
    "rects0 = ax.bar(x-width, [Average(year_55_dep_count),Average(year_65_dep_count),Average(year_75_dep_count),Average(year_85_dep_count),Average(year_100_dep_count)], width, align='edge', label='Depth')\n",
    "\n",
    "\n",
    "# Add some text for labels, title and custom x-axis tick labels, etc.\n",
    "ax.set_ylabel('Depth')\n",
    "ax.set_title('Average Depth based on magnitude of earthquake(2000-2016)')\n",
    "ax.set_xticks(x, labels)\n",
    "for tick in ax.get_xticklabels():\n",
    "    tick.set_rotation(90)\n",
    "ax.legend()\n",
    "ax.bar_label(rects0, padding=0)\n",
    "\n",
    "\n",
    "fig.tight_layout()\n",
    "fig.set_figwidth(3)\n",
    "plt.show()\n"
   ]
  },
  {
   "cell_type": "markdown",
   "id": "6779e575",
   "metadata": {},
   "source": [
    "## Plotting the data on a world map\n",
    "\n",
    "We visualize the regions that are affected by the earthquake and look for patterns that we can use to train the prediction model"
   ]
  },
  {
   "cell_type": "markdown",
   "id": "ad7a73f7",
   "metadata": {},
   "source": [
    "Plotting all earthquakes"
   ]
  },
  {
   "cell_type": "code",
   "execution_count": 6,
   "id": "cc3a814a",
   "metadata": {},
   "outputs": [
    {
     "ename": "ImportError",
     "evalue": "The 'read_file' function requires the 'pyogrio' or 'fiona' package, but neither is installed or imports correctly.\nImporting fiona resulted in: dlopen(/Users/rohaanoazoro/miniforge3/lib/python3.9/site-packages/fiona/ogrext.cpython-39-darwin.so, 0x0002): Library not loaded: '@rpath/libgdal.31.dylib'\n  Referenced from: '/Users/rohaanoazoro/miniforge3/lib/python3.9/site-packages/fiona/ogrext.cpython-39-darwin.so'\n  Reason: tried: '/Users/rohaanoazoro/miniforge3/lib/libgdal.31.dylib' (no such file), '/Users/rohaanoazoro/miniforge3/lib/libgdal.31.dylib' (no such file), '/Users/rohaanoazoro/miniforge3/lib/libgdal.31.dylib' (no such file), '/Users/rohaanoazoro/miniforge3/lib/libgdal.31.dylib' (no such file), '/Users/rohaanoazoro/miniforge3/bin/../lib/libgdal.31.dylib' (no such file), '/Users/rohaanoazoro/miniforge3/bin/../lib/libgdal.31.dylib' (no such file), '/usr/local/lib/libgdal.31.dylib' (no such file), '/usr/lib/libgdal.31.dylib' (no such file)\nImporting pyogrio resulted in: dlopen(/Users/rohaanoazoro/miniforge3/lib/python3.9/site-packages/pyogrio/_ogr.cpython-39-darwin.so, 0x0002): Library not loaded: '@rpath/libgdal.31.dylib'\n  Referenced from: '/Users/rohaanoazoro/miniforge3/lib/python3.9/site-packages/pyogrio/_ogr.cpython-39-darwin.so'\n  Reason: tried: '/Users/rohaanoazoro/miniforge3/lib/libgdal.31.dylib' (no such file), '/Users/rohaanoazoro/miniforge3/lib/libgdal.31.dylib' (no such file), '/Users/rohaanoazoro/miniforge3/lib/libgdal.31.dylib' (no such file), '/Users/rohaanoazoro/miniforge3/lib/libgdal.31.dylib' (no such file), '/Users/rohaanoazoro/miniforge3/bin/../lib/libgdal.31.dylib' (no such file), '/Users/rohaanoazoro/miniforge3/bin/../lib/libgdal.31.dylib' (no such file), '/usr/local/lib/libgdal.31.dylib' (no such file), '/usr/lib/libgdal.31.dylib' (no such file)",
     "output_type": "error",
     "traceback": [
      "\u001b[0;31m---------------------------------------------------------------------------\u001b[0m",
      "\u001b[0;31mImportError\u001b[0m                               Traceback (most recent call last)",
      "Cell \u001b[0;32mIn[6], line 5\u001b[0m\n\u001b[1;32m      2\u001b[0m gdf \u001b[38;5;241m=\u001b[39m GeoDataFrame(data, geometry\u001b[38;5;241m=\u001b[39mgeometry)   \n\u001b[1;32m      4\u001b[0m \u001b[38;5;66;03m#this is a simple map that goes with geopandas\u001b[39;00m\n\u001b[0;32m----> 5\u001b[0m world \u001b[38;5;241m=\u001b[39m \u001b[43mgpd\u001b[49m\u001b[38;5;241;43m.\u001b[39;49m\u001b[43mread_file\u001b[49m\u001b[43m(\u001b[49m\u001b[43mgpd\u001b[49m\u001b[38;5;241;43m.\u001b[39;49m\u001b[43mdatasets\u001b[49m\u001b[38;5;241;43m.\u001b[39;49m\u001b[43mget_path\u001b[49m\u001b[43m(\u001b[49m\u001b[38;5;124;43m'\u001b[39;49m\u001b[38;5;124;43mnaturalearth_lowres\u001b[39;49m\u001b[38;5;124;43m'\u001b[39;49m\u001b[43m)\u001b[49m\u001b[43m)\u001b[49m\n\u001b[1;32m      6\u001b[0m gdf\u001b[38;5;241m.\u001b[39mplot(ax\u001b[38;5;241m=\u001b[39mworld\u001b[38;5;241m.\u001b[39mplot(figsize\u001b[38;5;241m=\u001b[39m(\u001b[38;5;241m10\u001b[39m, \u001b[38;5;241m6\u001b[39m)), marker\u001b[38;5;241m=\u001b[39m\u001b[38;5;124m'\u001b[39m\u001b[38;5;124m*\u001b[39m\u001b[38;5;124m'\u001b[39m, color\u001b[38;5;241m=\u001b[39m\u001b[38;5;124m'\u001b[39m\u001b[38;5;124mgreen\u001b[39m\u001b[38;5;124m'\u001b[39m, markersize\u001b[38;5;241m=\u001b[39m\u001b[38;5;241m5\u001b[39m);\n",
      "File \u001b[0;32m~/miniforge3/lib/python3.9/site-packages/geopandas/io/file.py:242\u001b[0m, in \u001b[0;36m_read_file\u001b[0;34m(filename, bbox, mask, rows, engine, **kwargs)\u001b[0m\n\u001b[1;32m    172\u001b[0m \u001b[38;5;28;01mdef\u001b[39;00m \u001b[38;5;21m_read_file\u001b[39m(filename, bbox\u001b[38;5;241m=\u001b[39m\u001b[38;5;28;01mNone\u001b[39;00m, mask\u001b[38;5;241m=\u001b[39m\u001b[38;5;28;01mNone\u001b[39;00m, rows\u001b[38;5;241m=\u001b[39m\u001b[38;5;28;01mNone\u001b[39;00m, engine\u001b[38;5;241m=\u001b[39m\u001b[38;5;28;01mNone\u001b[39;00m, \u001b[38;5;241m*\u001b[39m\u001b[38;5;241m*\u001b[39mkwargs):\n\u001b[1;32m    173\u001b[0m     \u001b[38;5;124;03m\"\"\"\u001b[39;00m\n\u001b[1;32m    174\u001b[0m \u001b[38;5;124;03m    Returns a GeoDataFrame from a file or URL.\u001b[39;00m\n\u001b[1;32m    175\u001b[0m \n\u001b[0;32m   (...)\u001b[0m\n\u001b[1;32m    240\u001b[0m \u001b[38;5;124;03m    by using the encoding keyword parameter, e.g. ``encoding='utf-8'``.\u001b[39;00m\n\u001b[1;32m    241\u001b[0m \u001b[38;5;124;03m    \"\"\"\u001b[39;00m\n\u001b[0;32m--> 242\u001b[0m     engine \u001b[38;5;241m=\u001b[39m \u001b[43m_check_engine\u001b[49m\u001b[43m(\u001b[49m\u001b[43mengine\u001b[49m\u001b[43m,\u001b[49m\u001b[43m \u001b[49m\u001b[38;5;124;43m\"\u001b[39;49m\u001b[38;5;124;43m'\u001b[39;49m\u001b[38;5;124;43mread_file\u001b[39;49m\u001b[38;5;124;43m'\u001b[39;49m\u001b[38;5;124;43m function\u001b[39;49m\u001b[38;5;124;43m\"\u001b[39;49m\u001b[43m)\u001b[49m\n\u001b[1;32m    244\u001b[0m     filename \u001b[38;5;241m=\u001b[39m _expand_user(filename)\n\u001b[1;32m    246\u001b[0m     from_bytes \u001b[38;5;241m=\u001b[39m \u001b[38;5;28;01mFalse\u001b[39;00m\n",
      "File \u001b[0;32m~/miniforge3/lib/python3.9/site-packages/geopandas/io/file.py:112\u001b[0m, in \u001b[0;36m_check_engine\u001b[0;34m(engine, func)\u001b[0m\n\u001b[1;32m    110\u001b[0m     _check_pyogrio(func)\n\u001b[1;32m    111\u001b[0m \u001b[38;5;28;01melif\u001b[39;00m engine \u001b[38;5;129;01mis\u001b[39;00m \u001b[38;5;28;01mNone\u001b[39;00m:\n\u001b[0;32m--> 112\u001b[0m     \u001b[38;5;28;01mraise\u001b[39;00m \u001b[38;5;167;01mImportError\u001b[39;00m(\n\u001b[1;32m    113\u001b[0m         \u001b[38;5;124mf\u001b[39m\u001b[38;5;124m\"\u001b[39m\u001b[38;5;124mThe \u001b[39m\u001b[38;5;132;01m{\u001b[39;00mfunc\u001b[38;5;132;01m}\u001b[39;00m\u001b[38;5;124m requires the \u001b[39m\u001b[38;5;124m'\u001b[39m\u001b[38;5;124mpyogrio\u001b[39m\u001b[38;5;124m'\u001b[39m\u001b[38;5;124m or \u001b[39m\u001b[38;5;124m'\u001b[39m\u001b[38;5;124mfiona\u001b[39m\u001b[38;5;124m'\u001b[39m\u001b[38;5;124m package, \u001b[39m\u001b[38;5;124m\"\u001b[39m\n\u001b[1;32m    114\u001b[0m         \u001b[38;5;124m\"\u001b[39m\u001b[38;5;124mbut neither is installed or imports correctly.\u001b[39m\u001b[38;5;124m\"\u001b[39m\n\u001b[1;32m    115\u001b[0m         \u001b[38;5;124mf\u001b[39m\u001b[38;5;124m\"\u001b[39m\u001b[38;5;130;01m\\n\u001b[39;00m\u001b[38;5;124mImporting fiona resulted in: \u001b[39m\u001b[38;5;132;01m{\u001b[39;00mfiona_import_error\u001b[38;5;132;01m}\u001b[39;00m\u001b[38;5;124m\"\u001b[39m\n\u001b[1;32m    116\u001b[0m         \u001b[38;5;124mf\u001b[39m\u001b[38;5;124m\"\u001b[39m\u001b[38;5;130;01m\\n\u001b[39;00m\u001b[38;5;124mImporting pyogrio resulted in: \u001b[39m\u001b[38;5;132;01m{\u001b[39;00mpyogrio_import_error\u001b[38;5;132;01m}\u001b[39;00m\u001b[38;5;124m\"\u001b[39m\n\u001b[1;32m    117\u001b[0m     )\n\u001b[1;32m    119\u001b[0m \u001b[38;5;28;01mreturn\u001b[39;00m engine\n",
      "\u001b[0;31mImportError\u001b[0m: The 'read_file' function requires the 'pyogrio' or 'fiona' package, but neither is installed or imports correctly.\nImporting fiona resulted in: dlopen(/Users/rohaanoazoro/miniforge3/lib/python3.9/site-packages/fiona/ogrext.cpython-39-darwin.so, 0x0002): Library not loaded: '@rpath/libgdal.31.dylib'\n  Referenced from: '/Users/rohaanoazoro/miniforge3/lib/python3.9/site-packages/fiona/ogrext.cpython-39-darwin.so'\n  Reason: tried: '/Users/rohaanoazoro/miniforge3/lib/libgdal.31.dylib' (no such file), '/Users/rohaanoazoro/miniforge3/lib/libgdal.31.dylib' (no such file), '/Users/rohaanoazoro/miniforge3/lib/libgdal.31.dylib' (no such file), '/Users/rohaanoazoro/miniforge3/lib/libgdal.31.dylib' (no such file), '/Users/rohaanoazoro/miniforge3/bin/../lib/libgdal.31.dylib' (no such file), '/Users/rohaanoazoro/miniforge3/bin/../lib/libgdal.31.dylib' (no such file), '/usr/local/lib/libgdal.31.dylib' (no such file), '/usr/lib/libgdal.31.dylib' (no such file)\nImporting pyogrio resulted in: dlopen(/Users/rohaanoazoro/miniforge3/lib/python3.9/site-packages/pyogrio/_ogr.cpython-39-darwin.so, 0x0002): Library not loaded: '@rpath/libgdal.31.dylib'\n  Referenced from: '/Users/rohaanoazoro/miniforge3/lib/python3.9/site-packages/pyogrio/_ogr.cpython-39-darwin.so'\n  Reason: tried: '/Users/rohaanoazoro/miniforge3/lib/libgdal.31.dylib' (no such file), '/Users/rohaanoazoro/miniforge3/lib/libgdal.31.dylib' (no such file), '/Users/rohaanoazoro/miniforge3/lib/libgdal.31.dylib' (no such file), '/Users/rohaanoazoro/miniforge3/lib/libgdal.31.dylib' (no such file), '/Users/rohaanoazoro/miniforge3/bin/../lib/libgdal.31.dylib' (no such file), '/Users/rohaanoazoro/miniforge3/bin/../lib/libgdal.31.dylib' (no such file), '/usr/local/lib/libgdal.31.dylib' (no such file), '/usr/lib/libgdal.31.dylib' (no such file)"
     ]
    }
   ],
   "source": [
    "geometry = [Point(xy) for xy in zip(data['Longitude'], data['Latitude'])]\n",
    "gdf = GeoDataFrame(data, geometry=geometry)   \n",
    "\n",
    "#this is a simple map that goes with geopandas\n",
    "world = gpd.read_file(gpd.datasets.get_path('naturalearth_lowres'))\n",
    "gdf.plot(ax=world.plot(figsize=(10, 6)), marker='*', color='green', markersize=5);"
   ]
  },
  {
   "cell_type": "markdown",
   "id": "b209e548",
   "metadata": {},
   "source": [
    "We are binning the earthquakes' latitude, longitude, depth and time based on the binning criteria mentioned earlier."
   ]
  },
  {
   "cell_type": "code",
   "execution_count": null,
   "id": "5d43935d",
   "metadata": {},
   "outputs": [],
   "source": [
    "lat55 = []\n",
    "long55 = []\n",
    "\n",
    "lat65 = []\n",
    "long65 = []\n",
    "\n",
    "lat75 = []\n",
    "long75 = []\n",
    "\n",
    "lat85 = []\n",
    "long85 = []\n",
    "\n",
    "lat100 = []\n",
    "long100 = []\n",
    "\n",
    "for i in range(0, len(data)):\n",
    "    mag = data[\"Magnitude\"][i]\n",
    "    dep = data[\"Depth\"][i]\n",
    "    lat = data[\"Latitude\"][i]\n",
    "    long = data[\"Longitude\"][i]\n",
    "    data_year = data[\"year\"][i]\n",
    "    if data_year != '':\n",
    "\n",
    "        if float(mag) <= 5.5:\n",
    "            lat55.append(lat)\n",
    "            long55.append(long)\n",
    "        elif float(mag) <= 6.5:\n",
    "            lat65.append(lat)\n",
    "            long65.append(long)\n",
    "        elif float(mag) <= 7.5:\n",
    "            lat75.append(lat)\n",
    "            long75.append(long)\n",
    "        elif float(mag) <= 8.5:\n",
    "            lat85.append(lat)\n",
    "            long85.append(long)\n",
    "        else:\n",
    "            lat100.append(lat)\n",
    "            long100.append(long)"
   ]
  },
  {
   "cell_type": "markdown",
   "id": "199565ad",
   "metadata": {},
   "source": [
    "Plotting earthquakes whose magnitude is less than 5.5"
   ]
  },
  {
   "cell_type": "code",
   "execution_count": null,
   "id": "4b108f9a",
   "metadata": {},
   "outputs": [],
   "source": [
    "geometry = [Point(xy) for xy in zip(long55, lat55)]\n",
    "gdf = GeoDataFrame(lat55, geometry=geometry)   \n",
    "\n",
    "#this is a simple map that goes with geopandas\n",
    "world = gpd.read_file(gpd.datasets.get_path('naturalearth_lowres'))\n",
    "gdf.plot(ax=world.plot(figsize=(10, 6)), marker='*', color='blue', markersize=5);"
   ]
  },
  {
   "cell_type": "markdown",
   "id": "eaa311b8",
   "metadata": {},
   "source": [
    "Plotting earthquakes whose magnitude is less than 6.5 but greater than 5.5"
   ]
  },
  {
   "cell_type": "code",
   "execution_count": null,
   "id": "bc5f4ab0",
   "metadata": {},
   "outputs": [],
   "source": [
    "geometry = [Point(xy) for xy in zip(long65, lat65)]\n",
    "gdf = GeoDataFrame(lat65, geometry=geometry)   \n",
    "\n",
    "#this is a simple map that goes with geopandas\n",
    "world = gpd.read_file(gpd.datasets.get_path('naturalearth_lowres'))\n",
    "gdf.plot(ax=world.plot(figsize=(10, 6)), marker='*', color='yellow', markersize=5);"
   ]
  },
  {
   "cell_type": "markdown",
   "id": "d140c8c7",
   "metadata": {},
   "source": [
    "Plotting earthquakes whose magnitude is less than 7.5 but greater than 6.5"
   ]
  },
  {
   "cell_type": "code",
   "execution_count": null,
   "id": "c6b332f3",
   "metadata": {},
   "outputs": [],
   "source": [
    "geometry = [Point(xy) for xy in zip(long75, lat75)]\n",
    "gdf = GeoDataFrame(lat75, geometry=geometry)   \n",
    "\n",
    "#this is a simple map that goes with geopandas\n",
    "world = gpd.read_file(gpd.datasets.get_path('naturalearth_lowres'))\n",
    "gdf.plot(ax=world.plot(figsize=(10, 6)), marker='*', color='orange', markersize=5);"
   ]
  },
  {
   "cell_type": "markdown",
   "id": "e7ecf610",
   "metadata": {},
   "source": [
    "Plotting earthquakes whose magnitude is less than 8.5 but greater than 7.5"
   ]
  },
  {
   "cell_type": "code",
   "execution_count": null,
   "id": "fa6931b9",
   "metadata": {},
   "outputs": [],
   "source": [
    "geometry = [Point(xy) for xy in zip(long85, lat85)]\n",
    "gdf = GeoDataFrame(lat85, geometry=geometry)   \n",
    "\n",
    "#this is a simple map that goes with geopandas\n",
    "world = gpd.read_file(gpd.datasets.get_path('naturalearth_lowres'))\n",
    "gdf.plot(ax=world.plot(figsize=(10, 6)), marker='*', color='red', markersize=5);"
   ]
  },
  {
   "cell_type": "markdown",
   "id": "26a1adc3",
   "metadata": {},
   "source": [
    "Visualizing the average height of an tsunami to the depth of earthquakes per year"
   ]
  },
  {
   "cell_type": "code",
   "execution_count": null,
   "id": "d763123a",
   "metadata": {},
   "outputs": [],
   "source": [
    "# visualization\n",
    "plt.figure(figsize=(10,5))\n",
    "sns.barplot(y=year_55_mag_count[0:15], x=year_55_dep_count[0:15])\n",
    "plt.xticks(rotation= 45)\n",
    "plt.ylabel('Number of Earthquakes')\n",
    "plt.xlabel('Average Height')\n",
    "plt.title('Depth of Earthquakes')"
   ]
  }
 ],
 "metadata": {
  "kernelspec": {
   "display_name": "Python 3 (ipykernel)",
   "language": "python",
   "name": "python3"
  },
  "language_info": {
   "codemirror_mode": {
    "name": "ipython",
    "version": 3
   },
   "file_extension": ".py",
   "mimetype": "text/x-python",
   "name": "python",
   "nbconvert_exporter": "python",
   "pygments_lexer": "ipython3",
   "version": "3.9.15"
  }
 },
 "nbformat": 4,
 "nbformat_minor": 5
}
