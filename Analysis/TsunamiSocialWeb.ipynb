{
 "cells": [
  {
   "cell_type": "markdown",
   "id": "9001c9c5",
   "metadata": {},
   "source": [
    "# Tsunami Classification.\n",
    "\n",
    "## Objectives:\n",
    "1. Clean the data.\n",
    "2. Statistical Analysis of data.\n",
    " - *Find frequency of tsunami by Year.*\n",
    " - *Find frequency of tsunami by Magnitude and Year.*\n",
    " - *Find correlation of tsunami and earthquake magnitude.*\n",
    " - *Geographically plotting occurance of tsunami by magnitude.*\n",
    "3. Prediction using Decision Tree and Random Forrest."
   ]
  },
  {
   "cell_type": "markdown",
   "id": "ce5573de",
   "metadata": {},
   "source": [
    "## Import all libararies:\n",
    "We import libraries as follows:\n",
    "\n",
    "1. numpy for linear algebra\n",
    "2. pandas for data processing\n",
    "3. matplotlib, seaborn, shapely, geopandas for visualizarion\n",
    "4. os for reading/writing data"
   ]
  },
  {
   "cell_type": "code",
   "execution_count": 1,
   "id": "399abe27",
   "metadata": {},
   "outputs": [],
   "source": [
    "import numpy as np # linear algebra\n",
    "import pandas as pd # data processing, CSV file I/O (e.g. pd.read_csv)\n",
    "import matplotlib.pyplot as plt\n",
    "import seaborn as sns  # visualization tool\n",
    "from subprocess import check_output\n",
    "import math\n",
    "\n",
    "from shapely.geometry import Point\n",
    "import geopandas as gpd\n",
    "from geopandas import GeoDataFrame"
   ]
  },
  {
   "cell_type": "markdown",
   "id": "ce86fce4",
   "metadata": {},
   "source": [
    "## Reading the CSV file\n",
    "The CSV file that we had generated earlier by extracting information from the tweets as mentioned in extraction python notebook"
   ]
  },
  {
   "cell_type": "code",
   "execution_count": 2,
   "id": "d0bd6215",
   "metadata": {},
   "outputs": [],
   "source": [
    "data = pd.read_csv('tsunami.csv')\n",
    "#data.info()"
   ]
  },
  {
   "cell_type": "markdown",
   "id": "e6ce9fbb",
   "metadata": {},
   "source": [
    "## PreProcessing\n",
    "Dropping rows that have the following columns empty"
   ]
  },
  {
   "cell_type": "code",
   "execution_count": 3,
   "id": "95eb76dc",
   "metadata": {},
   "outputs": [
    {
     "data": {
      "text/html": [
       "<div>\n",
       "<style scoped>\n",
       "    .dataframe tbody tr th:only-of-type {\n",
       "        vertical-align: middle;\n",
       "    }\n",
       "\n",
       "    .dataframe tbody tr th {\n",
       "        vertical-align: top;\n",
       "    }\n",
       "\n",
       "    .dataframe thead th {\n",
       "        text-align: right;\n",
       "    }\n",
       "</style>\n",
       "<table border=\"1\" class=\"dataframe\">\n",
       "  <thead>\n",
       "    <tr style=\"text-align: right;\">\n",
       "      <th></th>\n",
       "      <th>Year</th>\n",
       "      <th>Mo</th>\n",
       "      <th>Dy</th>\n",
       "      <th>Hr</th>\n",
       "      <th>Mn</th>\n",
       "      <th>Sec</th>\n",
       "      <th>EarthquakeMagnitude</th>\n",
       "      <th>Deposits</th>\n",
       "      <th>Country</th>\n",
       "      <th>Location Name</th>\n",
       "      <th>Latitude</th>\n",
       "      <th>Longitude</th>\n",
       "      <th>MaximumWaterHeight</th>\n",
       "    </tr>\n",
       "  </thead>\n",
       "  <tbody>\n",
       "    <tr>\n",
       "      <th>0</th>\n",
       "      <td>2008</td>\n",
       "      <td>2</td>\n",
       "      <td>25</td>\n",
       "      <td>8.0</td>\n",
       "      <td>36.0</td>\n",
       "      <td>33.0</td>\n",
       "      <td>6.5</td>\n",
       "      <td>0</td>\n",
       "      <td>INDONESIA</td>\n",
       "      <td>SUMATRA</td>\n",
       "      <td>-2.486</td>\n",
       "      <td>99.972</td>\n",
       "      <td>0.12</td>\n",
       "    </tr>\n",
       "    <tr>\n",
       "      <th>1</th>\n",
       "      <td>2008</td>\n",
       "      <td>4</td>\n",
       "      <td>9</td>\n",
       "      <td>12.0</td>\n",
       "      <td>46.0</td>\n",
       "      <td>12.7</td>\n",
       "      <td>7.3</td>\n",
       "      <td>0</td>\n",
       "      <td>NEW CALEDONIA</td>\n",
       "      <td>LOYALTY ISLANDS</td>\n",
       "      <td>-20.071</td>\n",
       "      <td>168.892</td>\n",
       "      <td>0.16</td>\n",
       "    </tr>\n",
       "    <tr>\n",
       "      <th>2</th>\n",
       "      <td>2008</td>\n",
       "      <td>4</td>\n",
       "      <td>28</td>\n",
       "      <td>18.0</td>\n",
       "      <td>33.0</td>\n",
       "      <td>34.2</td>\n",
       "      <td>6.4</td>\n",
       "      <td>0</td>\n",
       "      <td>VANUATU</td>\n",
       "      <td>VANUATU ISLANDS</td>\n",
       "      <td>-19.941</td>\n",
       "      <td>168.953</td>\n",
       "      <td>0.03</td>\n",
       "    </tr>\n",
       "    <tr>\n",
       "      <th>5</th>\n",
       "      <td>2008</td>\n",
       "      <td>7</td>\n",
       "      <td>19</td>\n",
       "      <td>2.0</td>\n",
       "      <td>39.0</td>\n",
       "      <td>28.7</td>\n",
       "      <td>6.9</td>\n",
       "      <td>0</td>\n",
       "      <td>JAPAN</td>\n",
       "      <td>OFF EAST COAST OF HONSHU ISLAND</td>\n",
       "      <td>37.552</td>\n",
       "      <td>142.214</td>\n",
       "      <td>0.20</td>\n",
       "    </tr>\n",
       "    <tr>\n",
       "      <th>8</th>\n",
       "      <td>2008</td>\n",
       "      <td>9</td>\n",
       "      <td>11</td>\n",
       "      <td>0.0</td>\n",
       "      <td>20.0</td>\n",
       "      <td>50.9</td>\n",
       "      <td>6.8</td>\n",
       "      <td>0</td>\n",
       "      <td>JAPAN</td>\n",
       "      <td>HOKKAIDO ISLAND</td>\n",
       "      <td>41.892</td>\n",
       "      <td>143.754</td>\n",
       "      <td>0.09</td>\n",
       "    </tr>\n",
       "  </tbody>\n",
       "</table>\n",
       "</div>"
      ],
      "text/plain": [
       "   Year  Mo  Dy    Hr    Mn   Sec  EarthquakeMagnitude  Deposits  \\\n",
       "0  2008   2  25   8.0  36.0  33.0                  6.5         0   \n",
       "1  2008   4   9  12.0  46.0  12.7                  7.3         0   \n",
       "2  2008   4  28  18.0  33.0  34.2                  6.4         0   \n",
       "5  2008   7  19   2.0  39.0  28.7                  6.9         0   \n",
       "8  2008   9  11   0.0  20.0  50.9                  6.8         0   \n",
       "\n",
       "         Country                    Location Name  Latitude  Longitude  \\\n",
       "0      INDONESIA                          SUMATRA    -2.486     99.972   \n",
       "1  NEW CALEDONIA                  LOYALTY ISLANDS   -20.071    168.892   \n",
       "2        VANUATU                  VANUATU ISLANDS   -19.941    168.953   \n",
       "5          JAPAN  OFF EAST COAST OF HONSHU ISLAND    37.552    142.214   \n",
       "8          JAPAN                  HOKKAIDO ISLAND    41.892    143.754   \n",
       "\n",
       "   MaximumWaterHeight  \n",
       "0                0.12  \n",
       "1                0.16  \n",
       "2                0.03  \n",
       "5                0.20  \n",
       "8                0.09  "
      ]
     },
     "execution_count": 3,
     "metadata": {},
     "output_type": "execute_result"
    }
   ],
   "source": [
    "\n",
    "data.dropna(subset=['EarthquakeMagnitude'],inplace=True)\n",
    "data.dropna(subset=['MaximumWaterHeight'],inplace=True)\n",
    "data.dropna(subset=['Latitude'],inplace=True)\n",
    "data.dropna(subset=['Longitude'],inplace=True)\n",
    "data.head()"
   ]
  },
  {
   "cell_type": "markdown",
   "id": "5bd14628",
   "metadata": {},
   "source": [
    "## Sorting the List by year\n",
    "We sort the data by accesing order if the years. As you can see the output no year is repeated and is sorted in accending order"
   ]
  },
  {
   "cell_type": "code",
   "execution_count": 4,
   "id": "7c197654",
   "metadata": {},
   "outputs": [
    {
     "name": "stdout",
     "output_type": "stream",
     "text": [
      "[2008, 2009, 2010, 2011, 2012, 2013, 2014, 2015, 2016, 2017, 2018, 2019, 2020, 2021]\n"
     ]
    }
   ],
   "source": [
    "temp_years = list(set(data[\"Year\"]))\n",
    "unique_years = []\n",
    "for year in temp_years:\n",
    "    if year != '':\n",
    "        unique_years.append(int(year))\n",
    "    \n",
    "unique_years.sort()\n",
    "print(unique_years)"
   ]
  },
  {
   "cell_type": "markdown",
   "id": "ada7630e",
   "metadata": {},
   "source": [
    "## Calculating Quartiles\n",
    "Calculate the lower quartiile, median and upper quartile for binning"
   ]
  },
  {
   "cell_type": "code",
   "execution_count": 7,
   "id": "e9d9ab4e",
   "metadata": {},
   "outputs": [
    {
     "name": "stdout",
     "output_type": "stream",
     "text": [
      "0.25    0.09\n",
      "0.50    0.19\n",
      "0.75    0.50\n",
      "Name: MaximumWaterHeight, dtype: float64\n"
     ]
    }
   ],
   "source": [
    "print(data[\"MaximumWaterHeight\"].quantile([0.25,0.5,0.75]))"
   ]
  },
  {
   "cell_type": "markdown",
   "id": "45057018",
   "metadata": {},
   "source": [
    "## Binning Data\n",
    "We group the data based on Water Height:\n",
    "1. Height less than 0.08\n",
    "2. Height less than 0.20 and more than 0.08\n",
    "3. Height less than 0.835 and more than 0.20\n",
    "4. Height more than 0.835\n",
    "\n",
    "We accordingly increment the count of the respective magnitudes(mentioned above) per year"
   ]
  },
  {
   "cell_type": "code",
   "execution_count": 8,
   "id": "6daaf577",
   "metadata": {},
   "outputs": [
    {
     "ename": "KeyError",
     "evalue": "3",
     "output_type": "error",
     "traceback": [
      "\u001b[0;31m---------------------------------------------------------------------------\u001b[0m",
      "\u001b[0;31mKeyError\u001b[0m                                  Traceback (most recent call last)",
      "File \u001b[0;32m~/miniforge3/lib/python3.9/site-packages/pandas/core/indexes/base.py:3803\u001b[0m, in \u001b[0;36mIndex.get_loc\u001b[0;34m(self, key, method, tolerance)\u001b[0m\n\u001b[1;32m   3802\u001b[0m \u001b[38;5;28;01mtry\u001b[39;00m:\n\u001b[0;32m-> 3803\u001b[0m     \u001b[38;5;28;01mreturn\u001b[39;00m \u001b[38;5;28;43mself\u001b[39;49m\u001b[38;5;241;43m.\u001b[39;49m\u001b[43m_engine\u001b[49m\u001b[38;5;241;43m.\u001b[39;49m\u001b[43mget_loc\u001b[49m\u001b[43m(\u001b[49m\u001b[43mcasted_key\u001b[49m\u001b[43m)\u001b[49m\n\u001b[1;32m   3804\u001b[0m \u001b[38;5;28;01mexcept\u001b[39;00m \u001b[38;5;167;01mKeyError\u001b[39;00m \u001b[38;5;28;01mas\u001b[39;00m err:\n",
      "File \u001b[0;32m~/miniforge3/lib/python3.9/site-packages/pandas/_libs/index.pyx:138\u001b[0m, in \u001b[0;36mpandas._libs.index.IndexEngine.get_loc\u001b[0;34m()\u001b[0m\n",
      "File \u001b[0;32m~/miniforge3/lib/python3.9/site-packages/pandas/_libs/index.pyx:165\u001b[0m, in \u001b[0;36mpandas._libs.index.IndexEngine.get_loc\u001b[0;34m()\u001b[0m\n",
      "File \u001b[0;32mpandas/_libs/hashtable_class_helper.pxi:2263\u001b[0m, in \u001b[0;36mpandas._libs.hashtable.Int64HashTable.get_item\u001b[0;34m()\u001b[0m\n",
      "File \u001b[0;32mpandas/_libs/hashtable_class_helper.pxi:2273\u001b[0m, in \u001b[0;36mpandas._libs.hashtable.Int64HashTable.get_item\u001b[0;34m()\u001b[0m\n",
      "\u001b[0;31mKeyError\u001b[0m: 3",
      "\nThe above exception was the direct cause of the following exception:\n",
      "\u001b[0;31mKeyError\u001b[0m                                  Traceback (most recent call last)",
      "Cell \u001b[0;32mIn[8], line 19\u001b[0m\n\u001b[1;32m     15\u001b[0m     \u001b[38;5;28;01mreturn\u001b[39;00m \u001b[38;5;241m-\u001b[39m\u001b[38;5;241m1\u001b[39m\n\u001b[1;32m     18\u001b[0m \u001b[38;5;28;01mfor\u001b[39;00m i \u001b[38;5;129;01min\u001b[39;00m \u001b[38;5;28mrange\u001b[39m(\u001b[38;5;241m0\u001b[39m, \u001b[38;5;28mlen\u001b[39m(data)):\n\u001b[0;32m---> 19\u001b[0m     mag \u001b[38;5;241m=\u001b[39m \u001b[43mdata\u001b[49m\u001b[43m[\u001b[49m\u001b[38;5;124;43m\"\u001b[39;49m\u001b[38;5;124;43mMaximumWaterHeight\u001b[39;49m\u001b[38;5;124;43m\"\u001b[39;49m\u001b[43m]\u001b[49m\u001b[43m[\u001b[49m\u001b[43mi\u001b[49m\u001b[43m]\u001b[49m\n\u001b[1;32m     20\u001b[0m     data_year \u001b[38;5;241m=\u001b[39m data[\u001b[38;5;124m\"\u001b[39m\u001b[38;5;124mYear\u001b[39m\u001b[38;5;124m\"\u001b[39m][i]\n\u001b[1;32m     21\u001b[0m     \u001b[38;5;28;01mif\u001b[39;00m data_year \u001b[38;5;241m!=\u001b[39m \u001b[38;5;124m'\u001b[39m\u001b[38;5;124m'\u001b[39m:\n",
      "File \u001b[0;32m~/miniforge3/lib/python3.9/site-packages/pandas/core/series.py:981\u001b[0m, in \u001b[0;36mSeries.__getitem__\u001b[0;34m(self, key)\u001b[0m\n\u001b[1;32m    978\u001b[0m     \u001b[38;5;28;01mreturn\u001b[39;00m \u001b[38;5;28mself\u001b[39m\u001b[38;5;241m.\u001b[39m_values[key]\n\u001b[1;32m    980\u001b[0m \u001b[38;5;28;01melif\u001b[39;00m key_is_scalar:\n\u001b[0;32m--> 981\u001b[0m     \u001b[38;5;28;01mreturn\u001b[39;00m \u001b[38;5;28;43mself\u001b[39;49m\u001b[38;5;241;43m.\u001b[39;49m\u001b[43m_get_value\u001b[49m\u001b[43m(\u001b[49m\u001b[43mkey\u001b[49m\u001b[43m)\u001b[49m\n\u001b[1;32m    983\u001b[0m \u001b[38;5;28;01mif\u001b[39;00m is_hashable(key):\n\u001b[1;32m    984\u001b[0m     \u001b[38;5;66;03m# Otherwise index.get_value will raise InvalidIndexError\u001b[39;00m\n\u001b[1;32m    985\u001b[0m     \u001b[38;5;28;01mtry\u001b[39;00m:\n\u001b[1;32m    986\u001b[0m         \u001b[38;5;66;03m# For labels that don't resolve as scalars like tuples and frozensets\u001b[39;00m\n",
      "File \u001b[0;32m~/miniforge3/lib/python3.9/site-packages/pandas/core/series.py:1089\u001b[0m, in \u001b[0;36mSeries._get_value\u001b[0;34m(self, label, takeable)\u001b[0m\n\u001b[1;32m   1086\u001b[0m     \u001b[38;5;28;01mreturn\u001b[39;00m \u001b[38;5;28mself\u001b[39m\u001b[38;5;241m.\u001b[39m_values[label]\n\u001b[1;32m   1088\u001b[0m \u001b[38;5;66;03m# Similar to Index.get_value, but we do not fall back to positional\u001b[39;00m\n\u001b[0;32m-> 1089\u001b[0m loc \u001b[38;5;241m=\u001b[39m \u001b[38;5;28;43mself\u001b[39;49m\u001b[38;5;241;43m.\u001b[39;49m\u001b[43mindex\u001b[49m\u001b[38;5;241;43m.\u001b[39;49m\u001b[43mget_loc\u001b[49m\u001b[43m(\u001b[49m\u001b[43mlabel\u001b[49m\u001b[43m)\u001b[49m\n\u001b[1;32m   1090\u001b[0m \u001b[38;5;28;01mreturn\u001b[39;00m \u001b[38;5;28mself\u001b[39m\u001b[38;5;241m.\u001b[39mindex\u001b[38;5;241m.\u001b[39m_get_values_for_loc(\u001b[38;5;28mself\u001b[39m, loc, label)\n",
      "File \u001b[0;32m~/miniforge3/lib/python3.9/site-packages/pandas/core/indexes/base.py:3805\u001b[0m, in \u001b[0;36mIndex.get_loc\u001b[0;34m(self, key, method, tolerance)\u001b[0m\n\u001b[1;32m   3803\u001b[0m     \u001b[38;5;28;01mreturn\u001b[39;00m \u001b[38;5;28mself\u001b[39m\u001b[38;5;241m.\u001b[39m_engine\u001b[38;5;241m.\u001b[39mget_loc(casted_key)\n\u001b[1;32m   3804\u001b[0m \u001b[38;5;28;01mexcept\u001b[39;00m \u001b[38;5;167;01mKeyError\u001b[39;00m \u001b[38;5;28;01mas\u001b[39;00m err:\n\u001b[0;32m-> 3805\u001b[0m     \u001b[38;5;28;01mraise\u001b[39;00m \u001b[38;5;167;01mKeyError\u001b[39;00m(key) \u001b[38;5;28;01mfrom\u001b[39;00m \u001b[38;5;21;01merr\u001b[39;00m\n\u001b[1;32m   3806\u001b[0m \u001b[38;5;28;01mexcept\u001b[39;00m \u001b[38;5;167;01mTypeError\u001b[39;00m:\n\u001b[1;32m   3807\u001b[0m     \u001b[38;5;66;03m# If we have a listlike key, _check_indexing_error will raise\u001b[39;00m\n\u001b[1;32m   3808\u001b[0m     \u001b[38;5;66;03m#  InvalidIndexError. Otherwise we fall through and re-raise\u001b[39;00m\n\u001b[1;32m   3809\u001b[0m     \u001b[38;5;66;03m#  the TypeError.\u001b[39;00m\n\u001b[1;32m   3810\u001b[0m     \u001b[38;5;28mself\u001b[39m\u001b[38;5;241m.\u001b[39m_check_indexing_error(key)\n",
      "\u001b[0;31mKeyError\u001b[0m: 3"
     ]
    }
   ],
   "source": [
    "#Group Earthquakes by no of occurance per year\n",
    "year_mag_count = [0]*len(unique_years)\n",
    "year_55_mag_count = [0]*len(unique_years)\n",
    "year_65_mag_count = [0]*len(unique_years)\n",
    "year_75_mag_count = [0]*len(unique_years)\n",
    "year_100_mag_count = [0]*len(unique_years)\n",
    "\n",
    "def get_year_index(data_year, unique_years):\n",
    "    index = 0\n",
    "    for year in unique_years:\n",
    "        if year == data_year:\n",
    "            return index\n",
    "        index+=1\n",
    "        \n",
    "    return -1\n",
    "\n",
    "\n",
    "for i in range(0, len(data)):\n",
    "    mag = data[\"MaximumWaterHeight\"][i]\n",
    "    data_year = data[\"Year\"][i]\n",
    "    if data_year != '':\n",
    "        year_index = get_year_index(int(data_year), unique_years)\n",
    "        year_mag_count[year_index]+=1\n",
    "\n",
    "        if float(mag) <= 0.08:\n",
    "            year_55_mag_count[year_index]+=1\n",
    "        elif float(mag) <= 0.20:\n",
    "            year_65_mag_count[year_index]+=1\n",
    "        elif float(mag) <= 0.835:\n",
    "            year_75_mag_count[year_index]+=1\n",
    "        else:\n",
    "            year_100_mag_count[year_index]+=1\n",
    "    \n",
    "print(year_100_mag_count)\n"
   ]
  },
  {
   "cell_type": "markdown",
   "id": "cde1ee1b",
   "metadata": {},
   "source": [
    "## Plotting Data\n",
    "After the binning the data we visualize the data using a bargraph to identify patterns or trends that we can used to predict a natural disaster."
   ]
  },
  {
   "cell_type": "markdown",
   "id": "a0828bd3",
   "metadata": {},
   "source": [
    "### We are plotting the count of the occurance of Tsunamis per year"
   ]
  },
  {
   "cell_type": "code",
   "execution_count": null,
   "id": "a39d060c",
   "metadata": {},
   "outputs": [],
   "source": [
    "labels = unique_years\n",
    "\n",
    "plt.rcParams.update({'font.size': 8})\n",
    "\n",
    "x = np.arange(len(labels))  # the label locations\n",
    "width = 0.8  # the width of the bars\n",
    "\n",
    "fig, ax = plt.subplots()\n",
    "rects1 = ax.bar(x, list(year_mag_count), width, align='edge')\n",
    "\n",
    "\n",
    "# Add some text for labels, title and custom x-axis tick labels, etc.\n",
    "ax.set_ylabel('Frequency')\n",
    "ax.set_title('Number of Tsunamis(2008-2021)')\n",
    "ax.set_xticks(x, labels)\n",
    "for tick in ax.get_xticklabels():\n",
    "    tick.set_rotation(90)\n",
    "ax.legend()\n",
    "\n",
    "ax.bar_label(rects1, padding=1)\n",
    "\n",
    "fig.tight_layout()\n",
    "fig.set_figwidth(10)\n",
    "plt.show()\n"
   ]
  },
  {
   "cell_type": "markdown",
   "id": "cfa11e7c",
   "metadata": {},
   "source": [
    "### We are plotting the count of the occurance of Tsunamis per year and magnitude"
   ]
  },
  {
   "cell_type": "code",
   "execution_count": null,
   "id": "7085a105",
   "metadata": {},
   "outputs": [],
   "source": [
    "\n",
    "labels = unique_years\n",
    "\n",
    "plt.rcParams.update({'font.size': 8})\n",
    "\n",
    "x = np.arange(len(labels))  # the label locations\n",
    "width = 0.25  # the width of the bars\n",
    "\n",
    "fig, ax = plt.subplots()\n",
    "rects0 = ax.bar(x - 2 * width, list(year_55_mag_count), width, align='edge', label='Height <0.08m')\n",
    "rects1 = ax.bar(x - width, list(year_65_mag_count), width, align='edge', label='Height (0.08m-0.2m)')\n",
    "rects2 = ax.bar(x + width, list(year_75_mag_count), width, align='edge', label='Height (0.2m-0.83m)')\n",
    "rects3 = ax.bar(x + 2* width, list(year_100_mag_count), width, align='edge', label='Height >0.83m')\n",
    "\n",
    "\n",
    "# Add some text for labels, title and custom x-axis tick labels, etc.\n",
    "ax.set_ylabel('Frequency')\n",
    "ax.set_title('Comparision of magnitude scales Tsunamis(2008-2021)')\n",
    "ax.set_xticks(x, labels)\n",
    "for tick in ax.get_xticklabels():\n",
    "    tick.set_rotation(90)\n",
    "ax.legend()\n",
    "ax.bar_label(rects0, padding=1)\n",
    "ax.bar_label(rects1, padding=1)\n",
    "ax.bar_label(rects2, padding=1)\n",
    "ax.bar_label(rects3, padding=1)\n",
    "\n",
    "\n",
    "fig.tight_layout()\n",
    "fig.set_figwidth(10)\n",
    "plt.show()\n"
   ]
  },
  {
   "cell_type": "markdown",
   "id": "edad541b",
   "metadata": {},
   "source": [
    "## Binning Data\n",
    "We group the data based of Earthquake Magnitude based on Tsunami Height:\n",
    "1. Height less than 0.08\n",
    "2. Height less than 0.20 and more than 0.08\n",
    "3. Height less than 0.835 and more than 0.20\n",
    "4. Height more than 0.835"
   ]
  },
  {
   "cell_type": "code",
   "execution_count": null,
   "id": "3ae138a2",
   "metadata": {},
   "outputs": [],
   "source": [
    "#Group Earthquakes by no of occurance per year\n",
    "year_dep_count = []\n",
    "year_55_dep_count = []\n",
    "year_65_dep_count = []\n",
    "year_75_dep_count = []\n",
    "year_85_dep_count = []\n",
    "year_100_dep_count = []\n",
    "\n",
    "\n",
    "for i in range(0, len(data)):\n",
    "    mag = data[\"MaximumWaterHeight\"][i]\n",
    "    dep = data[\"EarthquakeMagnitude\"][i]\n",
    "    data_year = data[\"Year\"][i]\n",
    "\n",
    "    if data_year != '':\n",
    "\n",
    "        if float(mag) <= 0.10:\n",
    "            year_55_dep_count.append(dep)\n",
    "        elif float(mag) <= 0.27:\n",
    "            year_65_dep_count.append(dep)\n",
    "        elif float(mag) <= 1.04:\n",
    "            year_75_dep_count.append(dep)\n",
    "        else:\n",
    "            year_100_dep_count.append(dep)\n",
    "    \n",
    "print(year_65_dep_count)\n"
   ]
  },
  {
   "cell_type": "markdown",
   "id": "94595b9a",
   "metadata": {},
   "source": [
    "## Plotting the Tsunami Height vs Earthquake Magnitude\n",
    "\n",
    "This is use to find if there is any correlation between Tsunami Height and Earthquake Magnitude. We can see a linear increase therefore we can conclude that there is a linear correlation"
   ]
  },
  {
   "cell_type": "code",
   "execution_count": null,
   "id": "1a0bb09b",
   "metadata": {},
   "outputs": [],
   "source": [
    "def Average(lst):\n",
    "    x=0\n",
    "    if len(lst)> 0:\n",
    "        x = sum(lst) / len(lst)\n",
    "        if not math.isnan(x):\n",
    "            return int(x)\n",
    "    return x\n",
    "\n",
    "labels = [\"<0.10\", \"<0.27\", \"<1.04\",\">1.04\"]\n",
    "\n",
    "plt.rcParams.update({'font.size': 8})\n",
    "\n",
    "x = np.arange(len(labels))  # the label locations\n",
    "width = 0.8  # the width of the bars\n",
    "\n",
    "fig, ax = plt.subplots()\n",
    "rects0 = ax.bar(x-width, [Average(year_55_dep_count),Average(year_65_dep_count),Average(year_75_dep_count),Average(year_100_dep_count)], width, align='edge', label='Depth')\n",
    "\n",
    "\n",
    "# Add some text for labels, title and custom x-axis tick labels, etc.\n",
    "ax.set_xlabel('Tsunami Height')\n",
    "ax.set_ylabel('Earthquake Magnitude')\n",
    "ax.set_title('Average Height of Tsunami and magnitude of earthquake(2000-2016)')\n",
    "ax.set_xticks(x, labels)\n",
    "for tick in ax.get_xticklabels():\n",
    "    tick.set_rotation(90)\n",
    "ax.legend()\n",
    "ax.bar_label(rects0, padding=0)\n",
    "\n",
    "\n",
    "fig.tight_layout()\n",
    "fig.set_figwidth(3)\n",
    "plt.show()\n"
   ]
  },
  {
   "cell_type": "markdown",
   "id": "49c78299",
   "metadata": {},
   "source": [
    "## Plotting the data on a world map\n",
    "\n",
    "We visualize the regions that are affected by the earthquake and look for patterns that we can use to train the prediction model"
   ]
  },
  {
   "cell_type": "code",
   "execution_count": null,
   "id": "14e6537e",
   "metadata": {},
   "outputs": [],
   "source": [
    "geometry = [Point(xy) for xy in zip([0,0,0], [0,0,0])]\n",
    "gdf = GeoDataFrame([-2.486, -2.486, -2.486], geometry=geometry)   \n",
    "\n",
    "#this is a simple map that goes with geopandas\n",
    "world = gpd.read_file(gpd.datasets.get_path('naturalearth_lowres'))\n",
    "gdf.plot(ax=world.plot(figsize=(10, 6)), marker='*', color='green', markersize=5);"
   ]
  },
  {
   "cell_type": "markdown",
   "id": "fc53d9f7",
   "metadata": {},
   "source": [
    "We are binning the earthquakes' latitude, longitude, depth and time based on the binning criteria mentioned earlier."
   ]
  },
  {
   "cell_type": "code",
   "execution_count": null,
   "id": "81937658",
   "metadata": {},
   "outputs": [],
   "source": [
    "lat55 = []\n",
    "long55 = []\n",
    "\n",
    "lat65 = []\n",
    "long65 = []\n",
    "\n",
    "lat75 = []\n",
    "long75 = []\n",
    "\n",
    "lat85 = []\n",
    "long85 = []\n",
    "\n",
    "lat100 = []\n",
    "long100 = []\n",
    "\n",
    "for i in range(0, len(data)):\n",
    "    mag = data[\"MaximumWaterHeight\"][i]\n",
    "    lat = data[\"Latitude\"][i]\n",
    "    long = data[\"Longitude\"][i]\n",
    "    data_year = data[\"Year\"][i]\n",
    "    if data_year != '':\n",
    "\n",
    "        if float(mag) <= 0.08:\n",
    "            lat55.append(lat)\n",
    "            long55.append(long)\n",
    "        elif float(mag) <= 0.20:\n",
    "            lat65.append(lat)\n",
    "            long65.append(long)\n",
    "        elif float(mag) <=  0.835:\n",
    "            lat75.append(lat)\n",
    "            long75.append(long)\n",
    "        else:\n",
    "            lat100.append(lat)\n",
    "            long100.append(long)"
   ]
  },
  {
   "cell_type": "markdown",
   "id": "d53856f3",
   "metadata": {},
   "source": [
    "Plotting on a world map the tsunamis with a height less than 0.08m"
   ]
  },
  {
   "cell_type": "code",
   "execution_count": null,
   "id": "3639002d",
   "metadata": {},
   "outputs": [],
   "source": [
    "geometry = [Point(xy) for xy in zip(long55, lat55)]\n",
    "gdf = GeoDataFrame(lat55, geometry=geometry)   \n",
    "\n",
    "#this is a simple map that goes with geopandas\n",
    "world = gpd.read_file(gpd.datasets.get_path('naturalearth_lowres'))\n",
    "gdf.plot(ax=world.plot(figsize=(10, 6)), marker='*', color='blue', markersize=5);"
   ]
  },
  {
   "cell_type": "markdown",
   "id": "ec0911ec",
   "metadata": {},
   "source": [
    "Plotting on a world map the tsunamis with a height less than 0.2m greater than 0.08m"
   ]
  },
  {
   "cell_type": "code",
   "execution_count": null,
   "id": "20c0a5df",
   "metadata": {},
   "outputs": [],
   "source": [
    "geometry = [Point(xy) for xy in zip(long65, lat65)]\n",
    "gdf = GeoDataFrame(lat65, geometry=geometry)   \n",
    "\n",
    "#this is a simple map that goes with geopandas\n",
    "world = gpd.read_file(gpd.datasets.get_path('naturalearth_lowres'))\n",
    "gdf.plot(ax=world.plot(figsize=(10, 6)), marker='*', color='yellow', markersize=5);"
   ]
  },
  {
   "cell_type": "markdown",
   "id": "80c4322c",
   "metadata": {},
   "source": [
    "Plotting on a world map the tsunamis with a height less than 0.8m greater than 0.2m"
   ]
  },
  {
   "cell_type": "code",
   "execution_count": null,
   "id": "87427493",
   "metadata": {},
   "outputs": [],
   "source": [
    "geometry = [Point(xy) for xy in zip(long75, lat75)]\n",
    "gdf = GeoDataFrame(lat75, geometry=geometry)   \n",
    "\n",
    "#this is a simple map that goes with geopandas\n",
    "world = gpd.read_file(gpd.datasets.get_path('naturalearth_lowres'))\n",
    "gdf.plot(ax=world.plot(figsize=(10, 6)), marker='*', color='orange', markersize=5);"
   ]
  },
  {
   "cell_type": "markdown",
   "id": "5869c23e",
   "metadata": {},
   "source": [
    "Plotting on a world map the tsunamis with a height greater than 0.8m"
   ]
  },
  {
   "cell_type": "code",
   "execution_count": null,
   "id": "6a44ceb5",
   "metadata": {},
   "outputs": [],
   "source": [
    "geometry = [Point(xy) for xy in zip(long100, lat100)]\n",
    "gdf = GeoDataFrame(lat100, geometry=geometry)   \n",
    "\n",
    "#this is a simple map that goes with geopandas\n",
    "world = gpd.read_file(gpd.datasets.get_path('naturalearth_lowres'))\n",
    "gdf.plot(ax=world.plot(figsize=(10, 6)), marker='*', color='red', markersize=5);"
   ]
  },
  {
   "cell_type": "markdown",
   "id": "b24aa1d0",
   "metadata": {},
   "source": [
    "Visualizing the average depth of an earthquake to the frequency of earthquakes per year"
   ]
  },
  {
   "cell_type": "code",
   "execution_count": null,
   "id": "826c6361",
   "metadata": {},
   "outputs": [],
   "source": [
    "# visualization\n",
    "plt.figure(figsize=(10,5))\n",
    "sns.barplot(y=year_55_mag_count[0:15], x=year_55_dep_count[0:15])\n",
    "plt.xticks(rotation= 45)\n",
    "plt.ylabel('Number of Earthquakes')\n",
    "plt.xlabel('Average Depth')\n",
    "plt.title('Depth of Earthquakes')"
   ]
  }
 ],
 "metadata": {
  "kernelspec": {
   "display_name": "Python 3 (ipykernel)",
   "language": "python",
   "name": "python3"
  },
  "language_info": {
   "codemirror_mode": {
    "name": "ipython",
    "version": 3
   },
   "file_extension": ".py",
   "mimetype": "text/x-python",
   "name": "python",
   "nbconvert_exporter": "python",
   "pygments_lexer": "ipython3",
   "version": "3.9.15"
  }
 },
 "nbformat": 4,
 "nbformat_minor": 5
}
